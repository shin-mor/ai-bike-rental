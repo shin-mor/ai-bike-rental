{
  "nbformat": 4,
  "nbformat_minor": 0,
  "metadata": {
    "colab": {
      "name": "clustering.ipynb",
      "provenance": [],
      "authorship_tag": "ABX9TyNCzXfHGI1PNryqCKkZN6DN",
      "include_colab_link": true
    },
    "kernelspec": {
      "name": "python3",
      "display_name": "Python 3"
    }
  },
  "cells": [
    {
      "cell_type": "markdown",
      "metadata": {
        "id": "view-in-github",
        "colab_type": "text"
      },
      "source": [
        "<a href=\"https://colab.research.google.com/github/shin-mor/ai-bike-rental/blob/main/clustering.ipynb\" target=\"_parent\"><img src=\"https://colab.research.google.com/assets/colab-badge.svg\" alt=\"Open In Colab\"/></a>"
      ]
    },
    {
      "cell_type": "markdown",
      "metadata": {
        "id": "-BeHYj8dg7VI"
      },
      "source": [
        "**顧客層に応じた販売戦略(クラスタリング、次元圧縮)**"
      ]
    },
    {
      "cell_type": "markdown",
      "metadata": {
        "id": "WJz6t1kLhA8O"
      },
      "source": [
        "共通事前処理"
      ]
    },
    {
      "cell_type": "code",
      "metadata": {
        "colab": {
          "base_uri": "https://localhost:8080/"
        },
        "id": "3NzwZC_gg-ZW",
        "outputId": "950a727a-460e-44d2-b045-86e2bce306bf"
      },
      "source": [
        "# 日本語化ライブラリ導入\n",
        "!pip install japanize-matplotlib | tail -n 1"
      ],
      "execution_count": 1,
      "outputs": [
        {
          "output_type": "stream",
          "text": [
            "Successfully installed japanize-matplotlib-1.1.3\n"
          ],
          "name": "stdout"
        }
      ]
    },
    {
      "cell_type": "code",
      "metadata": {
        "id": "Uk8Y7KkDhIh9"
      },
      "source": [
        "# 共通事前処理\n",
        "\n",
        "# 余分なワーニングを非表示にする\n",
        "import warnings\n",
        "warnings.filterwarnings('ignore')\n",
        "\n",
        "# 必要ライブラリのimport\n",
        "import pandas as pd\n",
        "import numpy as np\n",
        "import matplotlib.pyplot as plt\n",
        "\n",
        "# matplotlib日本語化対応\n",
        "import japanize_matplotlib\n",
        "\n",
        "# データフレーム表示用関数\n",
        "from IPython.display import display\n",
        "\n",
        "# 表示オプション調整\n",
        "# numpyの浮動小数点の表示精度\n",
        "np.set_printoptions(suppress=True, precision=4)\n",
        "\n",
        "# pandasでの浮動小数点の表示精度\n",
        "pd.options.display.float_format = '{:.4f}'.format\n",
        "\n",
        "# データフレームですべての項目を表示\n",
        "pd.set_option(\"display.max_columns\",None)\n",
        "\n",
        "# グラフのデフォルトフォント指定\n",
        "plt.rcParams[\"font.size\"] = 14\n",
        "\n",
        "# 乱数の種\n",
        "random_seed = 123"
      ],
      "execution_count": 2,
      "outputs": []
    },
    {
      "cell_type": "markdown",
      "metadata": {
        "id": "boC0FphthUeP"
      },
      "source": [
        "データ読み込みからデータ確認まで"
      ]
    },
    {
      "cell_type": "markdown",
      "metadata": {
        "id": "pvc-lB0cg6Io"
      },
      "source": [
        ""
      ]
    },
    {
      "cell_type": "markdown",
      "metadata": {
        "id": "sNB_kkLAhYhe"
      },
      "source": [
        "データ読み込み"
      ]
    },
    {
      "cell_type": "code",
      "metadata": {
        "id": "NXDpCu84haO2"
      },
      "source": [
        "# データ読み込み\n",
        "url = 'https://archive.ics.uci.edu/ml/machine-learning-databases\\\n",
        "/00292/Wholesale%20customers%20data.csv'\n",
        "\n",
        "df = pd.read_csv(url)\n",
        "\n",
        "# 日本語に変更\n",
        "columns = ['販売チャネル', '地域', '生鮮食品', '乳製品', '食料品', \n",
        "    '冷凍食品', '洗剤_紙製品', '総菜']\n",
        "df.columns = columns"
      ],
      "execution_count": 3,
      "outputs": []
    },
    {
      "cell_type": "markdown",
      "metadata": {
        "id": "HgetlebGhf9v"
      },
      "source": [
        "データ確認"
      ]
    },
    {
      "cell_type": "code",
      "metadata": {
        "colab": {
          "base_uri": "https://localhost:8080/",
          "height": 221
        },
        "id": "kCx2P1JthhAu",
        "outputId": "56bbf80a-de93-481d-bdf9-35694f78c092"
      },
      "source": [
        "# データ内容確認\n",
        "display(df.head())\n",
        "\n",
        "# サイズ確認\n",
        "print(df.shape)"
      ],
      "execution_count": 4,
      "outputs": [
        {
          "output_type": "display_data",
          "data": {
            "text/html": [
              "<div>\n",
              "<style scoped>\n",
              "    .dataframe tbody tr th:only-of-type {\n",
              "        vertical-align: middle;\n",
              "    }\n",
              "\n",
              "    .dataframe tbody tr th {\n",
              "        vertical-align: top;\n",
              "    }\n",
              "\n",
              "    .dataframe thead th {\n",
              "        text-align: right;\n",
              "    }\n",
              "</style>\n",
              "<table border=\"1\" class=\"dataframe\">\n",
              "  <thead>\n",
              "    <tr style=\"text-align: right;\">\n",
              "      <th></th>\n",
              "      <th>販売チャネル</th>\n",
              "      <th>地域</th>\n",
              "      <th>生鮮食品</th>\n",
              "      <th>乳製品</th>\n",
              "      <th>食料品</th>\n",
              "      <th>冷凍食品</th>\n",
              "      <th>洗剤_紙製品</th>\n",
              "      <th>総菜</th>\n",
              "    </tr>\n",
              "  </thead>\n",
              "  <tbody>\n",
              "    <tr>\n",
              "      <th>0</th>\n",
              "      <td>2</td>\n",
              "      <td>3</td>\n",
              "      <td>12669</td>\n",
              "      <td>9656</td>\n",
              "      <td>7561</td>\n",
              "      <td>214</td>\n",
              "      <td>2674</td>\n",
              "      <td>1338</td>\n",
              "    </tr>\n",
              "    <tr>\n",
              "      <th>1</th>\n",
              "      <td>2</td>\n",
              "      <td>3</td>\n",
              "      <td>7057</td>\n",
              "      <td>9810</td>\n",
              "      <td>9568</td>\n",
              "      <td>1762</td>\n",
              "      <td>3293</td>\n",
              "      <td>1776</td>\n",
              "    </tr>\n",
              "    <tr>\n",
              "      <th>2</th>\n",
              "      <td>2</td>\n",
              "      <td>3</td>\n",
              "      <td>6353</td>\n",
              "      <td>8808</td>\n",
              "      <td>7684</td>\n",
              "      <td>2405</td>\n",
              "      <td>3516</td>\n",
              "      <td>7844</td>\n",
              "    </tr>\n",
              "    <tr>\n",
              "      <th>3</th>\n",
              "      <td>1</td>\n",
              "      <td>3</td>\n",
              "      <td>13265</td>\n",
              "      <td>1196</td>\n",
              "      <td>4221</td>\n",
              "      <td>6404</td>\n",
              "      <td>507</td>\n",
              "      <td>1788</td>\n",
              "    </tr>\n",
              "    <tr>\n",
              "      <th>4</th>\n",
              "      <td>2</td>\n",
              "      <td>3</td>\n",
              "      <td>22615</td>\n",
              "      <td>5410</td>\n",
              "      <td>7198</td>\n",
              "      <td>3915</td>\n",
              "      <td>1777</td>\n",
              "      <td>5185</td>\n",
              "    </tr>\n",
              "  </tbody>\n",
              "</table>\n",
              "</div>"
            ],
            "text/plain": [
              "   販売チャネル  地域   生鮮食品   乳製品   食料品  冷凍食品  洗剤_紙製品    総菜\n",
              "0       2   3  12669  9656  7561   214    2674  1338\n",
              "1       2   3   7057  9810  9568  1762    3293  1776\n",
              "2       2   3   6353  8808  7684  2405    3516  7844\n",
              "3       1   3  13265  1196  4221  6404     507  1788\n",
              "4       2   3  22615  5410  7198  3915    1777  5185"
            ]
          },
          "metadata": {
            "tags": []
          }
        },
        {
          "output_type": "stream",
          "text": [
            "(440, 8)\n"
          ],
          "name": "stdout"
        }
      ]
    },
    {
      "cell_type": "code",
      "metadata": {
        "colab": {
          "base_uri": "https://localhost:8080/"
        },
        "id": "DKVkMzh0hcoE",
        "outputId": "4ba9c1f3-f0ae-4cad-eb51-763bd74a6d91"
      },
      "source": [
        "# 欠損値確認\n",
        "print(df.isnull().sum())"
      ],
      "execution_count": 5,
      "outputs": [
        {
          "output_type": "stream",
          "text": [
            "販売チャネル    0\n",
            "地域        0\n",
            "生鮮食品      0\n",
            "乳製品       0\n",
            "食料品       0\n",
            "冷凍食品      0\n",
            "洗剤_紙製品    0\n",
            "総菜        0\n",
            "dtype: int64\n"
          ],
          "name": "stdout"
        }
      ]
    },
    {
      "cell_type": "code",
      "metadata": {
        "colab": {
          "base_uri": "https://localhost:8080/"
        },
        "id": "XlgB_daMhlt4",
        "outputId": "c70eaf41-c145-4ba5-9ea6-580ad5f194fa"
      },
      "source": [
        "# 販売チャネルのコード値確認\n",
        "print(df['販売チャネル'].value_counts())\n",
        "print()\n",
        "\n",
        "# 地域のコード値確認\n",
        "print(df['地域'].value_counts())"
      ],
      "execution_count": 6,
      "outputs": [
        {
          "output_type": "stream",
          "text": [
            "1    298\n",
            "2    142\n",
            "Name: 販売チャネル, dtype: int64\n",
            "\n",
            "3    316\n",
            "1     77\n",
            "2     47\n",
            "Name: 地域, dtype: int64\n"
          ],
          "name": "stdout"
        }
      ]
    },
    {
      "cell_type": "markdown",
      "metadata": {
        "id": "QVJp8X1khsPO"
      },
      "source": [
        "ヒストグラム表示"
      ]
    },
    {
      "cell_type": "code",
      "metadata": {
        "colab": {
          "base_uri": "https://localhost:8080/",
          "height": 577
        },
        "id": "cTFEUwQvhs61",
        "outputId": "c05879b4-18ae-425a-ce38-10dee7826663"
      },
      "source": [
        "# 販売チャネルと地域を落としたデータを作る\n",
        "df2 = df.drop(['販売チャネル', '地域'], axis=1)\n",
        "\n",
        "# 分析対象項目のヒストグラム表示\n",
        "from pylab import rcParams\n",
        "rcParams['figure.figsize'] = (8, 8)\n",
        "df2.hist(bins=20)\n",
        "plt.tight_layout() \n",
        "plt.show()"
      ],
      "execution_count": 7,
      "outputs": [
        {
          "output_type": "display_data",
          "data": {
            "image/png": "[encoded data removed]",
            "text/plain": [
              "<Figure size 576x576 with 6 Axes>"
            ]
          },
          "metadata": {
            "tags": [],
            "needs_background": "light"
          }
        }
      ]
    },
    {
      "cell_type": "markdown",
      "metadata": {
        "id": "HVmPx9SrhyLO"
      },
      "source": [
        "クラスタリングの実施"
      ]
    },
    {
      "cell_type": "code",
      "metadata": {
        "id": "LL4LBYH_h0B1"
      },
      "source": [
        "# データ前処理とデータ分割は不要\n",
        "\n",
        "# アルゴリズムの選択\n",
        "from sklearn.cluster import KMeans\n",
        "\n",
        "# グループ数を定義\n",
        "clusters=4\n",
        "\n",
        "# アルゴリズムの定義\n",
        "algorithm = KMeans(n_clusters=clusters, \n",
        "    random_state=random_seed)"
      ],
      "execution_count": 8,
      "outputs": []
    },
    {
      "cell_type": "code",
      "metadata": {
        "colab": {
          "base_uri": "https://localhost:8080/"
        },
        "id": "ahIl7pbBhoRB",
        "outputId": "201696e3-6cb2-42a7-ad68-873b59ef4a1e"
      },
      "source": [
        "# 学習、予測の実施\n",
        "y_pred = algorithm.fit_predict(df2)\n",
        "\n",
        "# 結果の一部確認\n",
        "print(y_pred[:20])"
      ],
      "execution_count": 9,
      "outputs": [
        {
          "output_type": "stream",
          "text": [
            "[3 3 3 3 0 3 3 3 3 1 1 3 0 1 0 3 1 3 3 3]\n"
          ],
          "name": "stdout"
        }
      ]
    },
    {
      "cell_type": "markdown",
      "metadata": {
        "id": "9JuC-WhOh7FH"
      },
      "source": [
        "**クラスタリング結果の分析**"
      ]
    },
    {
      "cell_type": "markdown",
      "metadata": {
        "id": "9FGkSbNHh9lI"
      },
      "source": [
        "グループ別平均値計算"
      ]
    },
    {
      "cell_type": "code",
      "metadata": {
        "colab": {
          "base_uri": "https://localhost:8080/",
          "height": 173
        },
        "id": "_jvn_-sgiEzM",
        "outputId": "ec8f52ba-64cc-4b62-d0a2-8bab82979594"
      },
      "source": [
        "# グループごとの平均値計算\n",
        "df_cluster = df2.groupby(y_pred).mean()\n",
        "display(df_cluster)"
      ],
      "execution_count": 10,
      "outputs": [
        {
          "output_type": "display_data",
          "data": {
            "text/html": [
              "<div>\n",
              "<style scoped>\n",
              "    .dataframe tbody tr th:only-of-type {\n",
              "        vertical-align: middle;\n",
              "    }\n",
              "\n",
              "    .dataframe tbody tr th {\n",
              "        vertical-align: top;\n",
              "    }\n",
              "\n",
              "    .dataframe thead th {\n",
              "        text-align: right;\n",
              "    }\n",
              "</style>\n",
              "<table border=\"1\" class=\"dataframe\">\n",
              "  <thead>\n",
              "    <tr style=\"text-align: right;\">\n",
              "      <th></th>\n",
              "      <th>生鮮食品</th>\n",
              "      <th>乳製品</th>\n",
              "      <th>食料品</th>\n",
              "      <th>冷凍食品</th>\n",
              "      <th>洗剤_紙製品</th>\n",
              "      <th>総菜</th>\n",
              "    </tr>\n",
              "  </thead>\n",
              "  <tbody>\n",
              "    <tr>\n",
              "      <th>0</th>\n",
              "      <td>36156.3898</td>\n",
              "      <td>6123.6441</td>\n",
              "      <td>6366.7797</td>\n",
              "      <td>6811.1186</td>\n",
              "      <td>1050.0169</td>\n",
              "      <td>3090.0508</td>\n",
              "    </tr>\n",
              "    <tr>\n",
              "      <th>1</th>\n",
              "      <td>5134.2198</td>\n",
              "      <td>11398.0769</td>\n",
              "      <td>17848.7582</td>\n",
              "      <td>1562.7802</td>\n",
              "      <td>7768.9231</td>\n",
              "      <td>1900.2418</td>\n",
              "    </tr>\n",
              "    <tr>\n",
              "      <th>2</th>\n",
              "      <td>20031.2857</td>\n",
              "      <td>38084.0000</td>\n",
              "      <td>56126.1429</td>\n",
              "      <td>2564.5714</td>\n",
              "      <td>27644.5714</td>\n",
              "      <td>2548.1429</td>\n",
              "    </tr>\n",
              "    <tr>\n",
              "      <th>3</th>\n",
              "      <td>8973.3958</td>\n",
              "      <td>3128.0883</td>\n",
              "      <td>3907.4276</td>\n",
              "      <td>2790.2085</td>\n",
              "      <td>1079.2297</td>\n",
              "      <td>1052.5477</td>\n",
              "    </tr>\n",
              "  </tbody>\n",
              "</table>\n",
              "</div>"
            ],
            "text/plain": [
              "        生鮮食品        乳製品        食料品      冷凍食品     洗剤_紙製品        総菜\n",
              "0 36156.3898  6123.6441  6366.7797 6811.1186  1050.0169 3090.0508\n",
              "1  5134.2198 11398.0769 17848.7582 1562.7802  7768.9231 1900.2418\n",
              "2 20031.2857 38084.0000 56126.1429 2564.5714 27644.5714 2548.1429\n",
              "3  8973.3958  3128.0883  3907.4276 2790.2085  1079.2297 1052.5477"
            ]
          },
          "metadata": {
            "tags": []
          }
        }
      ]
    },
    {
      "cell_type": "markdown",
      "metadata": {
        "id": "K4GVzkKuiI1O"
      },
      "source": [
        "**グループ別グラフ表示**"
      ]
    },
    {
      "cell_type": "code",
      "metadata": {
        "colab": {
          "base_uri": "https://localhost:8080/",
          "height": 373
        },
        "id": "qCIWFNj_iOJW",
        "outputId": "e53b9366-add6-42ef-af13-e1453bf198fa"
      },
      "source": [
        "# グループ別の棒グラフ表示\n",
        "df_cluster.plot(kind='bar',stacked=True,\n",
        "    figsize=(10, 6),colormap='jet')\n",
        "plt.show()"
      ],
      "execution_count": 11,
      "outputs": [
        {
          "output_type": "display_data",
          "data": {
            "image/png": "[encoded data removed]",
            "text/plain": [
              "<Figure size 720x432 with 1 Axes>"
            ]
          },
          "metadata": {
            "tags": [],
            "needs_background": "light"
          }
        }
      ]
    },
    {
      "cell_type": "markdown",
      "metadata": {
        "id": "kZbd6TOciUKO"
      },
      "source": [
        "**グループと販売チャネル・地域との関係**"
      ]
    },
    {
      "cell_type": "code",
      "metadata": {
        "colab": {
          "base_uri": "https://localhost:8080/",
          "height": 885
        },
        "id": "jj9WYHpniU63",
        "outputId": "bf32e8b7-9921-40c4-a1e2-4b365f7f8535"
      },
      "source": [
        "# クラスタと、チャネル・地域の関係を調べる\n",
        "\n",
        "# 販売チャネルと地域のみをdf3に抽出\n",
        "df3 = df[['販売チャネル', '地域']]\n",
        "\n",
        "# グラフの大きさ設定\n",
        "rcParams['figure.figsize'] = (6,3)\n",
        "\n",
        "# グループごとのグラフ表示\n",
        "for i in range(clusters):\n",
        "    fig, ax = plt.subplots()\n",
        "    w = df3[y_pred==i]\n",
        "    print(f'==== グループ{i} ====')\n",
        "    w.hist(ax=ax)\n",
        "    plt.tight_layout()\n",
        "    plt.show()"
      ],
      "execution_count": 12,
      "outputs": [
        {
          "output_type": "stream",
          "text": [
            "==== グループ0 ====\n"
          ],
          "name": "stdout"
        },
        {
          "output_type": "display_data",
          "data": {
            "image/png": "[encoded data removed]",
            "text/plain": [
              "<Figure size 432x216 with 2 Axes>"
            ]
          },
          "metadata": {
            "tags": [],
            "needs_background": "light"
          }
        },
        {
          "output_type": "stream",
          "text": [
            "==== グループ1 ====\n"
          ],
          "name": "stdout"
        },
        {
          "output_type": "display_data",
          "data": {
            "image/png": "[encoded data removed]",
            "text/plain": [
              "<Figure size 432x216 with 2 Axes>"
            ]
          },
          "metadata": {
            "tags": [],
            "needs_background": "light"
          }
        },
        {
          "output_type": "stream",
          "text": [
            "==== グループ2 ====\n"
          ],
          "name": "stdout"
        },
        {
          "output_type": "display_data",
          "data": {
            "image/png": "[encoded data removed]",
            "text/plain": [
              "<Figure size 432x216 with 2 Axes>"
            ]
          },
          "metadata": {
            "tags": [],
            "needs_background": "light"
          }
        },
        {
          "output_type": "stream",
          "text": [
            "==== グループ3 ====\n"
          ],
          "name": "stdout"
        },
        {
          "output_type": "display_data",
          "data": {
            "image/png": "[encoded data removed]",
            "text/plain": [
              "<Figure size 432x216 with 2 Axes>"
            ]
          },
          "metadata": {
            "tags": [],
            "needs_background": "light"
          }
        }
      ]
    },
    {
      "cell_type": "markdown",
      "metadata": {
        "id": "PHIuBHEvigyu"
      },
      "source": [
        ""
      ]
    },
    {
      "cell_type": "markdown",
      "metadata": {
        "id": "ZO_SXQVQiATv"
      },
      "source": [
        ""
      ]
    },
    {
      "cell_type": "code",
      "metadata": {
        "id": "Ptu7yPgUh48-"
      },
      "source": [
        "\n",
        "分析結果\n",
        "グループ0(生鮮)とグループ3(少量)は、チャネル1(Horeca)と関連が深い。\n",
        "グループ1(食品)とグループ2(大量)は、チャネル2(Retail)と関連が深い。\n",
        "地域とグループの関連は時に見いだせない"
      ],
      "execution_count": null,
      "outputs": []
    },
    {
      "cell_type": "markdown",
      "metadata": {
        "id": "AozDctCHikU9"
      },
      "source": [
        "**次元圧縮の実施**"
      ]
    },
    {
      "cell_type": "code",
      "metadata": {
        "id": "BNaIJg7Mip6Q"
      },
      "source": [
        "# アルゴリズムの選択\n",
        "from sklearn.decomposition import PCA\n",
        "\n",
        "# モデル生成\n",
        "# 散布図表示が目的のため2次元に圧縮\n",
        "pca = PCA(n_components=2)"
      ],
      "execution_count": 13,
      "outputs": []
    },
    {
      "cell_type": "code",
      "metadata": {
        "colab": {
          "base_uri": "https://localhost:8080/"
        },
        "id": "iUP1MaorisCr",
        "outputId": "639adac7-7026-469c-c4e8-4d7a7f44794c"
      },
      "source": [
        "# 学習・変換の実施\n",
        "d2 = pca.fit_transform(df2)\n",
        "\n",
        "# 結果の一部表示\n",
        "print(d2[:5,:])"
      ],
      "execution_count": 14,
      "outputs": [
        {
          "output_type": "stream",
          "text": [
            "[[  650.0221  1585.5191]\n",
            " [-4426.805   4042.4515]\n",
            " [-4841.9987  2578.7622]\n",
            " [  990.3464 -6279.806 ]\n",
            " [10657.9987 -2159.7258]]\n"
          ],
          "name": "stdout"
        }
      ]
    },
    {
      "cell_type": "markdown",
      "metadata": {
        "id": "kgGmqfXWiwHv"
      },
      "source": [
        "**次元圧縮の活用方法**"
      ]
    },
    {
      "cell_type": "markdown",
      "metadata": {
        "id": "fqMIei3BizK_"
      },
      "source": [
        "散布図表示"
      ]
    },
    {
      "cell_type": "code",
      "metadata": {
        "colab": {
          "base_uri": "https://localhost:8080/",
          "height": 486
        },
        "id": "Av-tdpbBi1Ym",
        "outputId": "3c64d2f6-7815-4384-a9fd-b05767e41e40"
      },
      "source": [
        "# グループごとに色分けし散布図表示\n",
        "\n",
        "plt.figure(figsize=(8,8))\n",
        "marks = ['.', 'x', '*', '+']\n",
        "labels = ['生鮮', '食品', '大量', '少量']\n",
        "colors = ['grey', 'lightblue', 'blue', 'black']\n",
        "for i in range(clusters):\n",
        "  plt.scatter(d2[y_pred==i][:,0], d2[y_pred==i][:,1], \n",
        "    marker=marks[i], label=labels[i], s=100, c=colors[i])\n",
        "plt.legend(fontsize=14)\n",
        "plt.show()"
      ],
      "execution_count": 15,
      "outputs": [
        {
          "output_type": "display_data",
          "data": {
            "image/png": "[encoded data removed]",
            "text/plain": [
              "<Figure size 576x576 with 1 Axes>"
            ]
          },
          "metadata": {
            "tags": [],
            "needs_background": "light"
          }
        }
      ]
    },
    {
      "cell_type": "markdown",
      "metadata": {
        "id": "zKiMGavSi6co"
      },
      "source": [
        "例外値の調査"
      ]
    },
    {
      "cell_type": "code",
      "metadata": {
        "colab": {
          "base_uri": "https://localhost:8080/",
          "height": 80
        },
        "id": "bXojciaLi7uw",
        "outputId": "02d86f81-e412-46f5-a5f2-4a0db2a4d08f"
      },
      "source": [
        "# 生鮮グループの例外値を調べる\n",
        "display(df[d2[:,0] > 100000])"
      ],
      "execution_count": 16,
      "outputs": [
        {
          "output_type": "display_data",
          "data": {
            "text/html": [
              "<div>\n",
              "<style scoped>\n",
              "    .dataframe tbody tr th:only-of-type {\n",
              "        vertical-align: middle;\n",
              "    }\n",
              "\n",
              "    .dataframe tbody tr th {\n",
              "        vertical-align: top;\n",
              "    }\n",
              "\n",
              "    .dataframe thead th {\n",
              "        text-align: right;\n",
              "    }\n",
              "</style>\n",
              "<table border=\"1\" class=\"dataframe\">\n",
              "  <thead>\n",
              "    <tr style=\"text-align: right;\">\n",
              "      <th></th>\n",
              "      <th>販売チャネル</th>\n",
              "      <th>地域</th>\n",
              "      <th>生鮮食品</th>\n",
              "      <th>乳製品</th>\n",
              "      <th>食料品</th>\n",
              "      <th>冷凍食品</th>\n",
              "      <th>洗剤_紙製品</th>\n",
              "      <th>総菜</th>\n",
              "    </tr>\n",
              "  </thead>\n",
              "  <tbody>\n",
              "    <tr>\n",
              "      <th>181</th>\n",
              "      <td>1</td>\n",
              "      <td>3</td>\n",
              "      <td>112151</td>\n",
              "      <td>29627</td>\n",
              "      <td>18148</td>\n",
              "      <td>16745</td>\n",
              "      <td>4948</td>\n",
              "      <td>8550</td>\n",
              "    </tr>\n",
              "  </tbody>\n",
              "</table>\n",
              "</div>"
            ],
            "text/plain": [
              "     販売チャネル  地域    生鮮食品    乳製品    食料品   冷凍食品  洗剤_紙製品    総菜\n",
              "181       1   3  112151  29627  18148  16745    4948  8550"
            ]
          },
          "metadata": {
            "tags": []
          }
        }
      ]
    },
    {
      "cell_type": "markdown",
      "metadata": {
        "id": "orSPq_FNi_tA"
      },
      "source": [
        "【考察】\n",
        "インデックス181の顧客は、特に生鮮食品の購買量が多いと考えられる"
      ]
    },
    {
      "cell_type": "code",
      "metadata": {
        "colab": {
          "base_uri": "https://localhost:8080/",
          "height": 80
        },
        "id": "weR2PlyajAqG",
        "outputId": "dd458929-3e88-4306-a0e0-1e779f2500f0"
      },
      "source": [
        "# 大量グループの例外値を調べる\n",
        "display(df[d2[:,1] > 80000])"
      ],
      "execution_count": 17,
      "outputs": [
        {
          "output_type": "display_data",
          "data": {
            "text/html": [
              "<div>\n",
              "<style scoped>\n",
              "    .dataframe tbody tr th:only-of-type {\n",
              "        vertical-align: middle;\n",
              "    }\n",
              "\n",
              "    .dataframe tbody tr th {\n",
              "        vertical-align: top;\n",
              "    }\n",
              "\n",
              "    .dataframe thead th {\n",
              "        text-align: right;\n",
              "    }\n",
              "</style>\n",
              "<table border=\"1\" class=\"dataframe\">\n",
              "  <thead>\n",
              "    <tr style=\"text-align: right;\">\n",
              "      <th></th>\n",
              "      <th>販売チャネル</th>\n",
              "      <th>地域</th>\n",
              "      <th>生鮮食品</th>\n",
              "      <th>乳製品</th>\n",
              "      <th>食料品</th>\n",
              "      <th>冷凍食品</th>\n",
              "      <th>洗剤_紙製品</th>\n",
              "      <th>総菜</th>\n",
              "    </tr>\n",
              "  </thead>\n",
              "  <tbody>\n",
              "    <tr>\n",
              "      <th>85</th>\n",
              "      <td>2</td>\n",
              "      <td>3</td>\n",
              "      <td>16117</td>\n",
              "      <td>46197</td>\n",
              "      <td>92780</td>\n",
              "      <td>1026</td>\n",
              "      <td>40827</td>\n",
              "      <td>2944</td>\n",
              "    </tr>\n",
              "  </tbody>\n",
              "</table>\n",
              "</div>"
            ],
            "text/plain": [
              "    販売チャネル  地域   生鮮食品    乳製品    食料品  冷凍食品  洗剤_紙製品    総菜\n",
              "85       2   3  16117  46197  92780  1026   40827  2944"
            ]
          },
          "metadata": {
            "tags": []
          }
        }
      ]
    },
    {
      "cell_type": "markdown",
      "metadata": {
        "id": "jtlTUbwejEhJ"
      },
      "source": [
        "【考察】\n",
        "インデックス85の顧客は、特に食料品と洗剤・紙製品の購買量が多いと考えられる"
      ]
    },
    {
      "cell_type": "code",
      "metadata": {
        "colab": {
          "base_uri": "https://localhost:8080/",
          "height": 297
        },
        "id": "XCeqlLArjFn3",
        "outputId": "85103bf6-7c28-4cce-e115-5a50b13d3c39"
      },
      "source": [
        "# 統計情報確認\n",
        "display(df2.describe())"
      ],
      "execution_count": 18,
      "outputs": [
        {
          "output_type": "display_data",
          "data": {
            "text/html": [
              "<div>\n",
              "<style scoped>\n",
              "    .dataframe tbody tr th:only-of-type {\n",
              "        vertical-align: middle;\n",
              "    }\n",
              "\n",
              "    .dataframe tbody tr th {\n",
              "        vertical-align: top;\n",
              "    }\n",
              "\n",
              "    .dataframe thead th {\n",
              "        text-align: right;\n",
              "    }\n",
              "</style>\n",
              "<table border=\"1\" class=\"dataframe\">\n",
              "  <thead>\n",
              "    <tr style=\"text-align: right;\">\n",
              "      <th></th>\n",
              "      <th>生鮮食品</th>\n",
              "      <th>乳製品</th>\n",
              "      <th>食料品</th>\n",
              "      <th>冷凍食品</th>\n",
              "      <th>洗剤_紙製品</th>\n",
              "      <th>総菜</th>\n",
              "    </tr>\n",
              "  </thead>\n",
              "  <tbody>\n",
              "    <tr>\n",
              "      <th>count</th>\n",
              "      <td>440.0000</td>\n",
              "      <td>440.0000</td>\n",
              "      <td>440.0000</td>\n",
              "      <td>440.0000</td>\n",
              "      <td>440.0000</td>\n",
              "      <td>440.0000</td>\n",
              "    </tr>\n",
              "    <tr>\n",
              "      <th>mean</th>\n",
              "      <td>12000.2977</td>\n",
              "      <td>5796.2659</td>\n",
              "      <td>7951.2773</td>\n",
              "      <td>3071.9318</td>\n",
              "      <td>2881.4932</td>\n",
              "      <td>1524.8705</td>\n",
              "    </tr>\n",
              "    <tr>\n",
              "      <th>std</th>\n",
              "      <td>12647.3289</td>\n",
              "      <td>7380.3772</td>\n",
              "      <td>9503.1628</td>\n",
              "      <td>4854.6733</td>\n",
              "      <td>4767.8544</td>\n",
              "      <td>2820.1059</td>\n",
              "    </tr>\n",
              "    <tr>\n",
              "      <th>min</th>\n",
              "      <td>3.0000</td>\n",
              "      <td>55.0000</td>\n",
              "      <td>3.0000</td>\n",
              "      <td>25.0000</td>\n",
              "      <td>3.0000</td>\n",
              "      <td>3.0000</td>\n",
              "    </tr>\n",
              "    <tr>\n",
              "      <th>25%</th>\n",
              "      <td>3127.7500</td>\n",
              "      <td>1533.0000</td>\n",
              "      <td>2153.0000</td>\n",
              "      <td>742.2500</td>\n",
              "      <td>256.7500</td>\n",
              "      <td>408.2500</td>\n",
              "    </tr>\n",
              "    <tr>\n",
              "      <th>50%</th>\n",
              "      <td>8504.0000</td>\n",
              "      <td>3627.0000</td>\n",
              "      <td>4755.5000</td>\n",
              "      <td>1526.0000</td>\n",
              "      <td>816.5000</td>\n",
              "      <td>965.5000</td>\n",
              "    </tr>\n",
              "    <tr>\n",
              "      <th>75%</th>\n",
              "      <td>16933.7500</td>\n",
              "      <td>7190.2500</td>\n",
              "      <td>10655.7500</td>\n",
              "      <td>3554.2500</td>\n",
              "      <td>3922.0000</td>\n",
              "      <td>1820.2500</td>\n",
              "    </tr>\n",
              "    <tr>\n",
              "      <th>max</th>\n",
              "      <td>112151.0000</td>\n",
              "      <td>73498.0000</td>\n",
              "      <td>92780.0000</td>\n",
              "      <td>60869.0000</td>\n",
              "      <td>40827.0000</td>\n",
              "      <td>47943.0000</td>\n",
              "    </tr>\n",
              "  </tbody>\n",
              "</table>\n",
              "</div>"
            ],
            "text/plain": [
              "             生鮮食品        乳製品        食料品       冷凍食品     洗剤_紙製品         総菜\n",
              "count    440.0000   440.0000   440.0000   440.0000   440.0000   440.0000\n",
              "mean   12000.2977  5796.2659  7951.2773  3071.9318  2881.4932  1524.8705\n",
              "std    12647.3289  7380.3772  9503.1628  4854.6733  4767.8544  2820.1059\n",
              "min        3.0000    55.0000     3.0000    25.0000     3.0000     3.0000\n",
              "25%     3127.7500  1533.0000  2153.0000   742.2500   256.7500   408.2500\n",
              "50%     8504.0000  3627.0000  4755.5000  1526.0000   816.5000   965.5000\n",
              "75%    16933.7500  7190.2500 10655.7500  3554.2500  3922.0000  1820.2500\n",
              "max   112151.0000 73498.0000 92780.0000 60869.0000 40827.0000 47943.0000"
            ]
          },
          "metadata": {
            "tags": []
          }
        }
      ]
    },
    {
      "cell_type": "code",
      "metadata": {
        "id": "WDaCu3BRixcm"
      },
      "source": [
        ""
      ],
      "execution_count": null,
      "outputs": []
    },
    {
      "cell_type": "code",
      "metadata": {
        "id": "P6MxxPlhit5r"
      },
      "source": [
        ""
      ],
      "execution_count": null,
      "outputs": []
    }
  ]
}