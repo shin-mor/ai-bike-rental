{
  "nbformat": 4,
  "nbformat_minor": 0,
  "metadata": {
    "colab": {
      "name": "Colaboratory へようこそ",
      "provenance": [],
      "collapsed_sections": [],
      "toc_visible": true
    },
    "kernelspec": {
      "display_name": "Python 3",
      "name": "python3"
    }
  },
  "cells": [
    {
      "cell_type": "markdown",
      "metadata": {
        "id": "P-H6Lw1vyNNd"
      },
      "source": [
        "<a name=\"machine-learning-examples\"></a>\n",
        "\n",
        "## 機械学習の例\n",
        "\n",
        "Colaboratory で実現したインタラクティブな機械学習解析のさまざまな応用例は、<a href=\"https://tfhub.dev\">TensorFlow Hub</a> のモデルを活用したチュートリアルでご紹介しています。\n",
        "\n",
        "おすすめの例をご紹介します。\n",
        "\n",
        "- <a href=\"https://tensorflow.org/hub/tutorials/tf2_image_retraining\">画像分類の再トレーニング</a>: 事前トレーニング済みの画像分類を再利用して Keras モデルを構築し、花を分類します。\n",
        "- <a href=\"https://tensorflow.org/hub/tutorials/tf2_text_classification\">テキスト分類</a>: IMDB の映画レビューをポジティブ<em></em>なレビューとネガティブ<em></em>なレビューに分類します。\n",
        "- <a href=\"https://tensorflow.org/hub/tutorials/tf2_arbitrary_image_stylization\">スタイル転送</a>: ディープ ラーニングを使用して画像間でスタイルを転送します。\n",
        "- <a href=\"https://tensorflow.org/hub/tutorials/retrieval_with_tf_hub_universal_encoder_qa\">Multilingual Universal Sentence Encoder の Q&A</a>: 機械学習モデルを使用して、SQuAD データベースからの質問に回答します。\n",
        "- <a href=\"https://tensorflow.org/hub/tutorials/tweening_conv3d\">動画の補間</a>: 動画の最初のフレームと最後のフレームの間に何か起こったのかを予測します。\n"
      ]
    },
    {
      "cell_type": "code",
      "metadata": {
        "id": "HlIk8VLRLYak",
        "outputId": "1056bfac-682d-47cc-a47e-d2abe22356d0",
        "colab": {
          "base_uri": "https://localhost:8080/"
        }
      },
      "source": [
        "# 日本語化ライブラリ導入\n",
        "!pip install japanize-matplotlib | tail -n 1\n",
        "\n",
        "\n",
        "# 共通事前処理\n",
        "\n",
        "# 余分なワーニングを非表示にする\n",
        "import warnings\n",
        "warnings.filterwarnings('ignore')\n",
        "\n",
        "# 必要ライブラリのimport\n",
        "import pandas as pd\n",
        "import numpy as np\n",
        "import matplotlib.pyplot as plt\n",
        "\n",
        "# matplotlib日本語化対応\n",
        "import japanize_matplotlib\n",
        "\n",
        "# データフレーム表示用関数\n",
        "from IPython.display import display\n",
        "\n",
        "# 表示オプション調整\n",
        "# numpyの浮動小数点の表示精度\n",
        "np.set_printoptions(suppress=True, precision=4)\n",
        "\n",
        "# pandasでの浮動小数点の表示精度\n",
        "pd.options.display.float_format = '{:.4f}'.format\n",
        "\n",
        "# データフレームですべての項目を表示\n",
        "pd.set_option(\"display.max_columns\",None)\n",
        "\n",
        "# グラフのデフォルトフォント指定\n",
        "plt.rcParams[\"font.size\"] = 14\n",
        "\n",
        "# 乱数の種\n",
        "random_seed = 123"
      ],
      "execution_count": 5,
      "outputs": [
        {
          "output_type": "stream",
          "text": [
            "Successfully installed japanize-matplotlib-1.1.3\n"
          ],
          "name": "stdout"
        }
      ]
    },
    {
      "cell_type": "code",
      "metadata": {
        "id": "I5NXlCmPR5oW",
        "outputId": "deeadb77-32cc-4a46-bcbc-f0340dc5af3b",
        "colab": {
          "base_uri": "https://localhost:8080/"
        }
      },
      "source": [
        "# ダウンロード元URL\n",
        "url = 'https://archive.ics.uci.edu/ml/\\\n",
        "machine-learning-databases/00275/\\\n",
        "Bike-Sharing-Dataset.zip'\n",
        "\n",
        "# 公開データのダウンロードと解凍\n",
        "!wget $url -O Bike-Sharing-Dataset.zip | tail -n 1\n",
        "!unzip -o Bike-Sharing-Dataset.zip | tail -n 1"
      ],
      "execution_count": 6,
      "outputs": [
        {
          "output_type": "stream",
          "text": [
            "--2020-11-22 00:10:55--  https://archive.ics.uci.edu/ml/machine-learning-databases/00275/Bike-Sharing-Dataset.zip\n",
            "Resolving archive.ics.uci.edu (archive.ics.uci.edu)... 128.195.10.252\n",
            "Connecting to archive.ics.uci.edu (archive.ics.uci.edu)|128.195.10.252|:443... connected.\n",
            "HTTP request sent, awaiting response... 200 OK\n",
            "Length: 279992 (273K) [application/x-httpd-php]\n",
            "Saving to: ‘Bike-Sharing-Dataset.zip’\n",
            "\n",
            "Bike-Sharing-Datase 100%[===================>] 273.43K  1008KB/s    in 0.3s    \n",
            "\n",
            "2020-11-22 00:10:56 (1008 KB/s) - ‘Bike-Sharing-Dataset.zip’ saved [279992/279992]\n",
            "\n",
            "  inflating: hour.csv                \n"
          ],
          "name": "stdout"
        }
      ]
    },
    {
      "cell_type": "code",
      "metadata": {
        "id": "5Dj00FflR-pW",
        "outputId": "b38aacff-86d0-4699-82f7-3358842fb254",
        "colab": {
          "base_uri": "https://localhost:8080/"
        }
      },
      "source": [
        "\n",
        "# データの状態確認\n",
        "!head -5 day.csv"
      ],
      "execution_count": 7,
      "outputs": [
        {
          "output_type": "stream",
          "text": [
            "instant,dteday,season,yr,mnth,holiday,weekday,workingday,weathersit,temp,atemp,hum,windspeed,casual,registered,cnt\r\n",
            "1,2011-01-01,1,0,1,0,6,0,2,0.344167,0.363625,0.805833,0.160446,331,654,985\r\n",
            "2,2011-01-02,1,0,1,0,0,0,2,0.363478,0.353739,0.696087,0.248539,131,670,801\r\n",
            "3,2011-01-03,1,0,1,0,1,1,1,0.196364,0.189405,0.437273,0.248309,120,1229,1349\r\n",
            "4,2011-01-04,1,0,1,0,2,1,1,0.2,0.212122,0.590435,0.160296,108,1454,1562\r\n"
          ],
          "name": "stdout"
        }
      ]
    },
    {
      "cell_type": "code",
      "metadata": {
        "id": "A2crj80VSk_W",
        "outputId": "f6b57ec2-67d1-4e9c-b693-460d467ecb49",
        "colab": {
          "base_uri": "https://localhost:8080/"
        }
      },
      "source": [
        "\n",
        "# day.csvをデータフレームに取り込み\n",
        "# 日付を表す列はparse_datesで指定する\n",
        "df = pd.read_csv('day.csv', parse_dates=[1])\n",
        "\n",
        "# データ属性の確認\n",
        "print(df.dtypes)"
      ],
      "execution_count": 8,
      "outputs": [
        {
          "output_type": "stream",
          "text": [
            "instant                int64\n",
            "dteday        datetime64[ns]\n",
            "season                 int64\n",
            "yr                     int64\n",
            "mnth                   int64\n",
            "holiday                int64\n",
            "weekday                int64\n",
            "workingday             int64\n",
            "weathersit             int64\n",
            "temp                 float64\n",
            "atemp                float64\n",
            "hum                  float64\n",
            "windspeed            float64\n",
            "casual                 int64\n",
            "registered             int64\n",
            "cnt                    int64\n",
            "dtype: object\n"
          ],
          "name": "stdout"
        }
      ]
    },
    {
      "cell_type": "code",
      "metadata": {
        "id": "snV0oHWLSp_2"
      },
      "source": [
        "# instant は連番で予測で不要なので削除\n",
        "df = df.drop('instant', axis=1)\n",
        "\n",
        "# 項目名の日本語化\n",
        "\n",
        "columns = [\n",
        "    '日付',  '季節',  '年', '月', '祝日', '曜日', '勤務日', '天気', \n",
        "    '気温', '体感温度',  '湿度', '風速',\n",
        "    '臨時ユーザー利用数', '登録ユーザー利用数', '全体ユーザー利用数'\n",
        "]\n",
        "\n",
        "# 項目名を日本語に置き換え\n",
        "df.columns = columns"
      ],
      "execution_count": 9,
      "outputs": []
    },
    {
      "cell_type": "code",
      "metadata": {
        "id": "T-aGfcnrStxt",
        "outputId": "8e44440d-76b4-4598-b9a4-f84ddbf7f0ec",
        "colab": {
          "base_uri": "https://localhost:8080/",
          "height": 595
        }
      },
      "source": [
        "# 先頭5行の確認\n",
        "display(df.head())\n",
        "\n",
        "# 最終5行の確認\n",
        "display(df.tail())"
      ],
      "execution_count": 10,
      "outputs": [
        {
          "output_type": "display_data",
          "data": {
            "text/html": [
              "<div>\n",
              "<style scoped>\n",
              "    .dataframe tbody tr th:only-of-type {\n",
              "        vertical-align: middle;\n",
              "    }\n",
              "\n",
              "    .dataframe tbody tr th {\n",
              "        vertical-align: top;\n",
              "    }\n",
              "\n",
              "    .dataframe thead th {\n",
              "        text-align: right;\n",
              "    }\n",
              "</style>\n",
              "<table border=\"1\" class=\"dataframe\">\n",
              "  <thead>\n",
              "    <tr style=\"text-align: right;\">\n",
              "      <th></th>\n",
              "      <th>日付</th>\n",
              "      <th>季節</th>\n",
              "      <th>年</th>\n",
              "      <th>月</th>\n",
              "      <th>祝日</th>\n",
              "      <th>曜日</th>\n",
              "      <th>勤務日</th>\n",
              "      <th>天気</th>\n",
              "      <th>気温</th>\n",
              "      <th>体感温度</th>\n",
              "      <th>湿度</th>\n",
              "      <th>風速</th>\n",
              "      <th>臨時ユーザー利用数</th>\n",
              "      <th>登録ユーザー利用数</th>\n",
              "      <th>全体ユーザー利用数</th>\n",
              "    </tr>\n",
              "  </thead>\n",
              "  <tbody>\n",
              "    <tr>\n",
              "      <th>0</th>\n",
              "      <td>2011-01-01</td>\n",
              "      <td>1</td>\n",
              "      <td>0</td>\n",
              "      <td>1</td>\n",
              "      <td>0</td>\n",
              "      <td>6</td>\n",
              "      <td>0</td>\n",
              "      <td>2</td>\n",
              "      <td>0.3442</td>\n",
              "      <td>0.3636</td>\n",
              "      <td>0.8058</td>\n",
              "      <td>0.1604</td>\n",
              "      <td>331</td>\n",
              "      <td>654</td>\n",
              "      <td>985</td>\n",
              "    </tr>\n",
              "    <tr>\n",
              "      <th>1</th>\n",
              "      <td>2011-01-02</td>\n",
              "      <td>1</td>\n",
              "      <td>0</td>\n",
              "      <td>1</td>\n",
              "      <td>0</td>\n",
              "      <td>0</td>\n",
              "      <td>0</td>\n",
              "      <td>2</td>\n",
              "      <td>0.3635</td>\n",
              "      <td>0.3537</td>\n",
              "      <td>0.6961</td>\n",
              "      <td>0.2485</td>\n",
              "      <td>131</td>\n",
              "      <td>670</td>\n",
              "      <td>801</td>\n",
              "    </tr>\n",
              "    <tr>\n",
              "      <th>2</th>\n",
              "      <td>2011-01-03</td>\n",
              "      <td>1</td>\n",
              "      <td>0</td>\n",
              "      <td>1</td>\n",
              "      <td>0</td>\n",
              "      <td>1</td>\n",
              "      <td>1</td>\n",
              "      <td>1</td>\n",
              "      <td>0.1964</td>\n",
              "      <td>0.1894</td>\n",
              "      <td>0.4373</td>\n",
              "      <td>0.2483</td>\n",
              "      <td>120</td>\n",
              "      <td>1229</td>\n",
              "      <td>1349</td>\n",
              "    </tr>\n",
              "    <tr>\n",
              "      <th>3</th>\n",
              "      <td>2011-01-04</td>\n",
              "      <td>1</td>\n",
              "      <td>0</td>\n",
              "      <td>1</td>\n",
              "      <td>0</td>\n",
              "      <td>2</td>\n",
              "      <td>1</td>\n",
              "      <td>1</td>\n",
              "      <td>0.2000</td>\n",
              "      <td>0.2121</td>\n",
              "      <td>0.5904</td>\n",
              "      <td>0.1603</td>\n",
              "      <td>108</td>\n",
              "      <td>1454</td>\n",
              "      <td>1562</td>\n",
              "    </tr>\n",
              "    <tr>\n",
              "      <th>4</th>\n",
              "      <td>2011-01-05</td>\n",
              "      <td>1</td>\n",
              "      <td>0</td>\n",
              "      <td>1</td>\n",
              "      <td>0</td>\n",
              "      <td>3</td>\n",
              "      <td>1</td>\n",
              "      <td>1</td>\n",
              "      <td>0.2270</td>\n",
              "      <td>0.2293</td>\n",
              "      <td>0.4370</td>\n",
              "      <td>0.1869</td>\n",
              "      <td>82</td>\n",
              "      <td>1518</td>\n",
              "      <td>1600</td>\n",
              "    </tr>\n",
              "  </tbody>\n",
              "</table>\n",
              "</div>"
            ],
            "text/plain": [
              "          日付  季節  年  月  祝日  曜日  勤務日  天気     気温   体感温度     湿度     風速  \\\n",
              "0 2011-01-01   1  0  1   0   6    0   2 0.3442 0.3636 0.8058 0.1604   \n",
              "1 2011-01-02   1  0  1   0   0    0   2 0.3635 0.3537 0.6961 0.2485   \n",
              "2 2011-01-03   1  0  1   0   1    1   1 0.1964 0.1894 0.4373 0.2483   \n",
              "3 2011-01-04   1  0  1   0   2    1   1 0.2000 0.2121 0.5904 0.1603   \n",
              "4 2011-01-05   1  0  1   0   3    1   1 0.2270 0.2293 0.4370 0.1869   \n",
              "\n",
              "   臨時ユーザー利用数  登録ユーザー利用数  全体ユーザー利用数  \n",
              "0        331        654        985  \n",
              "1        131        670        801  \n",
              "2        120       1229       1349  \n",
              "3        108       1454       1562  \n",
              "4         82       1518       1600  "
            ]
          },
          "metadata": {
            "tags": []
          }
        },
        {
          "output_type": "display_data",
          "data": {
            "text/html": [
              "<div>\n",
              "<style scoped>\n",
              "    .dataframe tbody tr th:only-of-type {\n",
              "        vertical-align: middle;\n",
              "    }\n",
              "\n",
              "    .dataframe tbody tr th {\n",
              "        vertical-align: top;\n",
              "    }\n",
              "\n",
              "    .dataframe thead th {\n",
              "        text-align: right;\n",
              "    }\n",
              "</style>\n",
              "<table border=\"1\" class=\"dataframe\">\n",
              "  <thead>\n",
              "    <tr style=\"text-align: right;\">\n",
              "      <th></th>\n",
              "      <th>日付</th>\n",
              "      <th>季節</th>\n",
              "      <th>年</th>\n",
              "      <th>月</th>\n",
              "      <th>祝日</th>\n",
              "      <th>曜日</th>\n",
              "      <th>勤務日</th>\n",
              "      <th>天気</th>\n",
              "      <th>気温</th>\n",
              "      <th>体感温度</th>\n",
              "      <th>湿度</th>\n",
              "      <th>風速</th>\n",
              "      <th>臨時ユーザー利用数</th>\n",
              "      <th>登録ユーザー利用数</th>\n",
              "      <th>全体ユーザー利用数</th>\n",
              "    </tr>\n",
              "  </thead>\n",
              "  <tbody>\n",
              "    <tr>\n",
              "      <th>726</th>\n",
              "      <td>2012-12-27</td>\n",
              "      <td>1</td>\n",
              "      <td>1</td>\n",
              "      <td>12</td>\n",
              "      <td>0</td>\n",
              "      <td>4</td>\n",
              "      <td>1</td>\n",
              "      <td>2</td>\n",
              "      <td>0.2542</td>\n",
              "      <td>0.2266</td>\n",
              "      <td>0.6529</td>\n",
              "      <td>0.3501</td>\n",
              "      <td>247</td>\n",
              "      <td>1867</td>\n",
              "      <td>2114</td>\n",
              "    </tr>\n",
              "    <tr>\n",
              "      <th>727</th>\n",
              "      <td>2012-12-28</td>\n",
              "      <td>1</td>\n",
              "      <td>1</td>\n",
              "      <td>12</td>\n",
              "      <td>0</td>\n",
              "      <td>5</td>\n",
              "      <td>1</td>\n",
              "      <td>2</td>\n",
              "      <td>0.2533</td>\n",
              "      <td>0.2550</td>\n",
              "      <td>0.5900</td>\n",
              "      <td>0.1555</td>\n",
              "      <td>644</td>\n",
              "      <td>2451</td>\n",
              "      <td>3095</td>\n",
              "    </tr>\n",
              "    <tr>\n",
              "      <th>728</th>\n",
              "      <td>2012-12-29</td>\n",
              "      <td>1</td>\n",
              "      <td>1</td>\n",
              "      <td>12</td>\n",
              "      <td>0</td>\n",
              "      <td>6</td>\n",
              "      <td>0</td>\n",
              "      <td>2</td>\n",
              "      <td>0.2533</td>\n",
              "      <td>0.2424</td>\n",
              "      <td>0.7529</td>\n",
              "      <td>0.1244</td>\n",
              "      <td>159</td>\n",
              "      <td>1182</td>\n",
              "      <td>1341</td>\n",
              "    </tr>\n",
              "    <tr>\n",
              "      <th>729</th>\n",
              "      <td>2012-12-30</td>\n",
              "      <td>1</td>\n",
              "      <td>1</td>\n",
              "      <td>12</td>\n",
              "      <td>0</td>\n",
              "      <td>0</td>\n",
              "      <td>0</td>\n",
              "      <td>1</td>\n",
              "      <td>0.2558</td>\n",
              "      <td>0.2317</td>\n",
              "      <td>0.4833</td>\n",
              "      <td>0.3508</td>\n",
              "      <td>364</td>\n",
              "      <td>1432</td>\n",
              "      <td>1796</td>\n",
              "    </tr>\n",
              "    <tr>\n",
              "      <th>730</th>\n",
              "      <td>2012-12-31</td>\n",
              "      <td>1</td>\n",
              "      <td>1</td>\n",
              "      <td>12</td>\n",
              "      <td>0</td>\n",
              "      <td>1</td>\n",
              "      <td>1</td>\n",
              "      <td>2</td>\n",
              "      <td>0.2158</td>\n",
              "      <td>0.2235</td>\n",
              "      <td>0.5775</td>\n",
              "      <td>0.1548</td>\n",
              "      <td>439</td>\n",
              "      <td>2290</td>\n",
              "      <td>2729</td>\n",
              "    </tr>\n",
              "  </tbody>\n",
              "</table>\n",
              "</div>"
            ],
            "text/plain": [
              "            日付  季節  年   月  祝日  曜日  勤務日  天気     気温   体感温度     湿度     風速  \\\n",
              "726 2012-12-27   1  1  12   0   4    1   2 0.2542 0.2266 0.6529 0.3501   \n",
              "727 2012-12-28   1  1  12   0   5    1   2 0.2533 0.2550 0.5900 0.1555   \n",
              "728 2012-12-29   1  1  12   0   6    0   2 0.2533 0.2424 0.7529 0.1244   \n",
              "729 2012-12-30   1  1  12   0   0    0   1 0.2558 0.2317 0.4833 0.3508   \n",
              "730 2012-12-31   1  1  12   0   1    1   2 0.2158 0.2235 0.5775 0.1548   \n",
              "\n",
              "     臨時ユーザー利用数  登録ユーザー利用数  全体ユーザー利用数  \n",
              "726        247       1867       2114  \n",
              "727        644       2451       3095  \n",
              "728        159       1182       1341  \n",
              "729        364       1432       1796  \n",
              "730        439       2290       2729  "
            ]
          },
          "metadata": {
            "tags": []
          }
        }
      ]
    },
    {
      "cell_type": "code",
      "metadata": {
        "id": "N3Qdv1LkSw0W",
        "outputId": "6f508f85-40d3-43bb-c823-fa26e2e00f0e",
        "colab": {
          "base_uri": "https://localhost:8080/",
          "height": 865
        }
      },
      "source": [
        "# 度数分布表示\n",
        "\n",
        "# グラフのサイズ調整のためのおまじない\n",
        "from pylab import rcParams\n",
        "rcParams['figure.figsize'] = (12, 12)\n",
        "\n",
        "# データフレームの数値項目でヒストグラム表示\n",
        "df.hist(bins=20)\n",
        "plt.tight_layout()\n",
        "plt.show()"
      ],
      "execution_count": 11,
      "outputs": [
        {
          "output_type": "display_data",
          "data": {
            "image/png": "[encoded data removed]",
            "text/plain": [
              "<Figure size 864x864 with 16 Axes>"
            ]
          },
          "metadata": {
            "tags": [],
            "needs_background": "light"
          }
        }
      ]
    },
    {
      "cell_type": "code",
      "metadata": {
        "id": "JNLjutL5S3Nk"
      },
      "source": [
        "# x, yへの分割\n",
        "x = df.drop(['日付', '臨時ユーザー利用数', '登録ユーザー利用数',\n",
        "    '全体ユーザー利用数'], axis=1)\n",
        "y = df['登録ユーザー利用数'].values"
      ],
      "execution_count": 12,
      "outputs": []
    },
    {
      "cell_type": "code",
      "metadata": {
        "id": "kSSYKd-BS5PV"
      },
      "source": [
        "# 分割日 mdayの設定\n",
        "mday = pd.to_datetime('2012-11-1')\n",
        "\n",
        "# 訓練用indexと検証用indexを作る\n",
        "train_index = df['日付'] < mday\n",
        "test_index = df['日付'] >= mday\n",
        "\n",
        "# 入力データの分割\n",
        "x_train = x[train_index]\n",
        "x_test = x[test_index]\n",
        "\n",
        "# yも同様に分割\n",
        "y_train = y[train_index]\n",
        "y_test = y[test_index]\n",
        "\n",
        "# 日付データの分割(グラフ表示用)\n",
        "dates_test = df['日付'][test_index]"
      ],
      "execution_count": 13,
      "outputs": []
    },
    {
      "cell_type": "code",
      "metadata": {
        "id": "HCUpKy9KS9CW",
        "outputId": "3c2ae340-ae63-4637-ac43-be25e0074738",
        "colab": {
          "base_uri": "https://localhost:8080/",
          "height": 425
        }
      },
      "source": [
        "# 結果確認(サイズを確認)\n",
        "print(x_train.shape)\n",
        "print(x_test.shape)\n",
        "\n",
        "# 結果確認 (境界値を重点的に)\n",
        "display(x_train.tail())\n",
        "display(x_test.head())"
      ],
      "execution_count": 14,
      "outputs": [
        {
          "output_type": "stream",
          "text": [
            "(670, 11)\n",
            "(61, 11)\n"
          ],
          "name": "stdout"
        },
        {
          "output_type": "display_data",
          "data": {
            "text/html": [
              "<div>\n",
              "<style scoped>\n",
              "    .dataframe tbody tr th:only-of-type {\n",
              "        vertical-align: middle;\n",
              "    }\n",
              "\n",
              "    .dataframe tbody tr th {\n",
              "        vertical-align: top;\n",
              "    }\n",
              "\n",
              "    .dataframe thead th {\n",
              "        text-align: right;\n",
              "    }\n",
              "</style>\n",
              "<table border=\"1\" class=\"dataframe\">\n",
              "  <thead>\n",
              "    <tr style=\"text-align: right;\">\n",
              "      <th></th>\n",
              "      <th>季節</th>\n",
              "      <th>年</th>\n",
              "      <th>月</th>\n",
              "      <th>祝日</th>\n",
              "      <th>曜日</th>\n",
              "      <th>勤務日</th>\n",
              "      <th>天気</th>\n",
              "      <th>気温</th>\n",
              "      <th>体感温度</th>\n",
              "      <th>湿度</th>\n",
              "      <th>風速</th>\n",
              "    </tr>\n",
              "  </thead>\n",
              "  <tbody>\n",
              "    <tr>\n",
              "      <th>665</th>\n",
              "      <td>4</td>\n",
              "      <td>1</td>\n",
              "      <td>10</td>\n",
              "      <td>0</td>\n",
              "      <td>6</td>\n",
              "      <td>0</td>\n",
              "      <td>2</td>\n",
              "      <td>0.5300</td>\n",
              "      <td>0.5151</td>\n",
              "      <td>0.7200</td>\n",
              "      <td>0.2357</td>\n",
              "    </tr>\n",
              "    <tr>\n",
              "      <th>666</th>\n",
              "      <td>4</td>\n",
              "      <td>1</td>\n",
              "      <td>10</td>\n",
              "      <td>0</td>\n",
              "      <td>0</td>\n",
              "      <td>0</td>\n",
              "      <td>2</td>\n",
              "      <td>0.4775</td>\n",
              "      <td>0.4678</td>\n",
              "      <td>0.6946</td>\n",
              "      <td>0.3980</td>\n",
              "    </tr>\n",
              "    <tr>\n",
              "      <th>667</th>\n",
              "      <td>4</td>\n",
              "      <td>1</td>\n",
              "      <td>10</td>\n",
              "      <td>0</td>\n",
              "      <td>1</td>\n",
              "      <td>1</td>\n",
              "      <td>3</td>\n",
              "      <td>0.4400</td>\n",
              "      <td>0.4394</td>\n",
              "      <td>0.8800</td>\n",
              "      <td>0.3582</td>\n",
              "    </tr>\n",
              "    <tr>\n",
              "      <th>668</th>\n",
              "      <td>4</td>\n",
              "      <td>1</td>\n",
              "      <td>10</td>\n",
              "      <td>0</td>\n",
              "      <td>2</td>\n",
              "      <td>1</td>\n",
              "      <td>2</td>\n",
              "      <td>0.3182</td>\n",
              "      <td>0.3099</td>\n",
              "      <td>0.8255</td>\n",
              "      <td>0.2130</td>\n",
              "    </tr>\n",
              "    <tr>\n",
              "      <th>669</th>\n",
              "      <td>4</td>\n",
              "      <td>1</td>\n",
              "      <td>10</td>\n",
              "      <td>0</td>\n",
              "      <td>3</td>\n",
              "      <td>1</td>\n",
              "      <td>2</td>\n",
              "      <td>0.3575</td>\n",
              "      <td>0.3611</td>\n",
              "      <td>0.6667</td>\n",
              "      <td>0.1667</td>\n",
              "    </tr>\n",
              "  </tbody>\n",
              "</table>\n",
              "</div>"
            ],
            "text/plain": [
              "     季節  年   月  祝日  曜日  勤務日  天気     気温   体感温度     湿度     風速\n",
              "665   4  1  10   0   6    0   2 0.5300 0.5151 0.7200 0.2357\n",
              "666   4  1  10   0   0    0   2 0.4775 0.4678 0.6946 0.3980\n",
              "667   4  1  10   0   1    1   3 0.4400 0.4394 0.8800 0.3582\n",
              "668   4  1  10   0   2    1   2 0.3182 0.3099 0.8255 0.2130\n",
              "669   4  1  10   0   3    1   2 0.3575 0.3611 0.6667 0.1667"
            ]
          },
          "metadata": {
            "tags": []
          }
        },
        {
          "output_type": "display_data",
          "data": {
            "text/html": [
              "<div>\n",
              "<style scoped>\n",
              "    .dataframe tbody tr th:only-of-type {\n",
              "        vertical-align: middle;\n",
              "    }\n",
              "\n",
              "    .dataframe tbody tr th {\n",
              "        vertical-align: top;\n",
              "    }\n",
              "\n",
              "    .dataframe thead th {\n",
              "        text-align: right;\n",
              "    }\n",
              "</style>\n",
              "<table border=\"1\" class=\"dataframe\">\n",
              "  <thead>\n",
              "    <tr style=\"text-align: right;\">\n",
              "      <th></th>\n",
              "      <th>季節</th>\n",
              "      <th>年</th>\n",
              "      <th>月</th>\n",
              "      <th>祝日</th>\n",
              "      <th>曜日</th>\n",
              "      <th>勤務日</th>\n",
              "      <th>天気</th>\n",
              "      <th>気温</th>\n",
              "      <th>体感温度</th>\n",
              "      <th>湿度</th>\n",
              "      <th>風速</th>\n",
              "    </tr>\n",
              "  </thead>\n",
              "  <tbody>\n",
              "    <tr>\n",
              "      <th>670</th>\n",
              "      <td>4</td>\n",
              "      <td>1</td>\n",
              "      <td>11</td>\n",
              "      <td>0</td>\n",
              "      <td>4</td>\n",
              "      <td>1</td>\n",
              "      <td>2</td>\n",
              "      <td>0.3658</td>\n",
              "      <td>0.3699</td>\n",
              "      <td>0.5817</td>\n",
              "      <td>0.1573</td>\n",
              "    </tr>\n",
              "    <tr>\n",
              "      <th>671</th>\n",
              "      <td>4</td>\n",
              "      <td>1</td>\n",
              "      <td>11</td>\n",
              "      <td>0</td>\n",
              "      <td>5</td>\n",
              "      <td>1</td>\n",
              "      <td>1</td>\n",
              "      <td>0.3550</td>\n",
              "      <td>0.3560</td>\n",
              "      <td>0.5221</td>\n",
              "      <td>0.2662</td>\n",
              "    </tr>\n",
              "    <tr>\n",
              "      <th>672</th>\n",
              "      <td>4</td>\n",
              "      <td>1</td>\n",
              "      <td>11</td>\n",
              "      <td>0</td>\n",
              "      <td>6</td>\n",
              "      <td>0</td>\n",
              "      <td>2</td>\n",
              "      <td>0.3433</td>\n",
              "      <td>0.3238</td>\n",
              "      <td>0.4913</td>\n",
              "      <td>0.2705</td>\n",
              "    </tr>\n",
              "    <tr>\n",
              "      <th>673</th>\n",
              "      <td>4</td>\n",
              "      <td>1</td>\n",
              "      <td>11</td>\n",
              "      <td>0</td>\n",
              "      <td>0</td>\n",
              "      <td>0</td>\n",
              "      <td>1</td>\n",
              "      <td>0.3258</td>\n",
              "      <td>0.3295</td>\n",
              "      <td>0.5329</td>\n",
              "      <td>0.1791</td>\n",
              "    </tr>\n",
              "    <tr>\n",
              "      <th>674</th>\n",
              "      <td>4</td>\n",
              "      <td>1</td>\n",
              "      <td>11</td>\n",
              "      <td>0</td>\n",
              "      <td>1</td>\n",
              "      <td>1</td>\n",
              "      <td>1</td>\n",
              "      <td>0.3192</td>\n",
              "      <td>0.3081</td>\n",
              "      <td>0.4942</td>\n",
              "      <td>0.2363</td>\n",
              "    </tr>\n",
              "  </tbody>\n",
              "</table>\n",
              "</div>"
            ],
            "text/plain": [
              "     季節  年   月  祝日  曜日  勤務日  天気     気温   体感温度     湿度     風速\n",
              "670   4  1  11   0   4    1   2 0.3658 0.3699 0.5817 0.1573\n",
              "671   4  1  11   0   5    1   1 0.3550 0.3560 0.5221 0.2662\n",
              "672   4  1  11   0   6    0   2 0.3433 0.3238 0.4913 0.2705\n",
              "673   4  1  11   0   0    0   1 0.3258 0.3295 0.5329 0.1791\n",
              "674   4  1  11   0   1    1   1 0.3192 0.3081 0.4942 0.2363"
            ]
          },
          "metadata": {
            "tags": []
          }
        }
      ]
    },
    {
      "cell_type": "code",
      "metadata": {
        "id": "OGh8mDeJTAJV",
        "outputId": "922fe0e1-71e2-4b84-973a-f95c728545e9",
        "colab": {
          "base_uri": "https://localhost:8080/"
        }
      },
      "source": [
        "\n",
        "# 目的変数の分割結果確認\n",
        "print(y_train[:10])"
      ],
      "execution_count": 15,
      "outputs": [
        {
          "output_type": "stream",
          "text": [
            "[ 654  670 1229 1454 1518 1518 1362  891  768 1280]\n"
          ],
          "name": "stdout"
        }
      ]
    },
    {
      "cell_type": "code",
      "metadata": {
        "id": "vhYYmp6lTDHt"
      },
      "source": [
        "# アルゴリズム選定\n",
        "# XGBRegressorを選定する\n",
        "from xgboost import XGBRegressor\n",
        "algorithm = XGBRegressor(objective ='reg:squarederror',\n",
        "    random_state=random_seed)"
      ],
      "execution_count": 16,
      "outputs": []
    },
    {
      "cell_type": "code",
      "metadata": {
        "id": "9jw1O04CTHqX",
        "outputId": "f0b60f9a-a60a-4b97-889f-067c66f26497",
        "colab": {
          "base_uri": "https://localhost:8080/"
        }
      },
      "source": [
        "# 登録ユーザー利用数予測モデルの学習と予測\n",
        "\n",
        "# 学習\n",
        "algorithm.fit(x_train, y_train)\n",
        "\n",
        "# 予測\n",
        "y_pred = algorithm.predict(x_test)\n",
        "\n",
        "# 予測結果確認\n",
        "print(y_pred[:5])"
      ],
      "execution_count": 17,
      "outputs": [
        {
          "output_type": "stream",
          "text": [
            "[4613.577  4863.4756 4057.923  3642.1284 4354.408 ]\n"
          ],
          "name": "stdout"
        }
      ]
    },
    {
      "cell_type": "code",
      "metadata": {
        "id": "kIWmW8CITK9G",
        "outputId": "f89b6898-cd7b-43ec-bc6d-d919c5a51a7e",
        "colab": {
          "base_uri": "https://localhost:8080/"
        }
      },
      "source": [
        "\n",
        "# 評価(登録ユーザー利用数)\n",
        "\n",
        "# score関数の呼び出し\n",
        "score = algorithm.score(x_test, y_test)\n",
        "\n",
        "# R2値の計算\n",
        "from sklearn.metrics import r2_score\n",
        "r2_score = r2_score(y_test, y_pred)\n",
        "\n",
        "# 結果確認\n",
        "print(f'score: {score:.4f}  r2_ score: {r2_score:.4f}')"
      ],
      "execution_count": 18,
      "outputs": [
        {
          "output_type": "stream",
          "text": [
            "score: 0.5294  r2_ score: 0.5294\n"
          ],
          "name": "stdout"
        }
      ]
    },
    {
      "cell_type": "code",
      "metadata": {
        "id": "X-oZDmepTNZf",
        "outputId": "99618a2c-a181-4969-fed8-1770cff6cbbd",
        "colab": {
          "base_uri": "https://localhost:8080/",
          "height": 355
        }
      },
      "source": [
        "# 時系列グラフの描画 (登録ユーザー利用数)\n",
        "import matplotlib.dates as mdates\n",
        "fig, ax = plt.subplots(figsize=(8, 4))\n",
        "\n",
        "# グラフ描画\n",
        "ax.plot(dates_test, y_test, label='正解データ', c='k')\n",
        "ax.plot(dates_test, y_pred, label='予測結果', c='b')\n",
        "\n",
        "# 日付目盛間隔\n",
        "# 木曜日ごとに日付を表示\n",
        "weeks = mdates.WeekdayLocator(byweekday=mdates.TH)\n",
        "ax.xaxis.set_major_locator(weeks)\n",
        "\n",
        "# 日付表記を90度回転\n",
        "ax.tick_params(axis='x', rotation=90)\n",
        "\n",
        "# 方眼表示など\n",
        "ax.grid()\n",
        "ax.legend()\n",
        "ax.set_title('登録ユーザー利用数予測')\n",
        "\n",
        "# 画面出力\n",
        "plt.show()"
      ],
      "execution_count": 19,
      "outputs": [
        {
          "output_type": "display_data",
          "data": {
            "image/png": "[encoded data removed]",
            "text/plain": [
              "<Figure size 576x288 with 1 Axes>"
            ]
          },
          "metadata": {
            "tags": [],
            "needs_background": "light"
          }
        }
      ]
    },
    {
      "cell_type": "code",
      "metadata": {
        "id": "qAXR5nEDTXKg",
        "outputId": "8b3aa422-b473-462f-b505-2e3a1c690896",
        "colab": {
          "base_uri": "https://localhost:8080/",
          "height": 221
        }
      },
      "source": [
        "# 項目をone hot encodeするための関数\n",
        "def enc(df, column):\n",
        "    df_dummy = pd.get_dummies(df[column], prefix=column)\n",
        "    df = pd.concat([df.drop([column],axis=1),df_dummy],axis=1)\n",
        "    return df\n",
        "\n",
        "# 項目「月」「季節」をone hot encodingする\n",
        "\n",
        "x2 = x.copy()\n",
        "x2 = enc(x2, '月')\n",
        "x2 = enc(x2, '季節')\n",
        "\n",
        "# 結果確認\n",
        "display(x2.head())"
      ],
      "execution_count": 20,
      "outputs": [
        {
          "output_type": "display_data",
          "data": {
            "text/html": [
              "<div>\n",
              "<style scoped>\n",
              "    .dataframe tbody tr th:only-of-type {\n",
              "        vertical-align: middle;\n",
              "    }\n",
              "\n",
              "    .dataframe tbody tr th {\n",
              "        vertical-align: top;\n",
              "    }\n",
              "\n",
              "    .dataframe thead th {\n",
              "        text-align: right;\n",
              "    }\n",
              "</style>\n",
              "<table border=\"1\" class=\"dataframe\">\n",
              "  <thead>\n",
              "    <tr style=\"text-align: right;\">\n",
              "      <th></th>\n",
              "      <th>年</th>\n",
              "      <th>祝日</th>\n",
              "      <th>曜日</th>\n",
              "      <th>勤務日</th>\n",
              "      <th>天気</th>\n",
              "      <th>気温</th>\n",
              "      <th>体感温度</th>\n",
              "      <th>湿度</th>\n",
              "      <th>風速</th>\n",
              "      <th>月_1</th>\n",
              "      <th>月_2</th>\n",
              "      <th>月_3</th>\n",
              "      <th>月_4</th>\n",
              "      <th>月_5</th>\n",
              "      <th>月_6</th>\n",
              "      <th>月_7</th>\n",
              "      <th>月_8</th>\n",
              "      <th>月_9</th>\n",
              "      <th>月_10</th>\n",
              "      <th>月_11</th>\n",
              "      <th>月_12</th>\n",
              "      <th>季節_1</th>\n",
              "      <th>季節_2</th>\n",
              "      <th>季節_3</th>\n",
              "      <th>季節_4</th>\n",
              "    </tr>\n",
              "  </thead>\n",
              "  <tbody>\n",
              "    <tr>\n",
              "      <th>0</th>\n",
              "      <td>0</td>\n",
              "      <td>0</td>\n",
              "      <td>6</td>\n",
              "      <td>0</td>\n",
              "      <td>2</td>\n",
              "      <td>0.3442</td>\n",
              "      <td>0.3636</td>\n",
              "      <td>0.8058</td>\n",
              "      <td>0.1604</td>\n",
              "      <td>1</td>\n",
              "      <td>0</td>\n",
              "      <td>0</td>\n",
              "      <td>0</td>\n",
              "      <td>0</td>\n",
              "      <td>0</td>\n",
              "      <td>0</td>\n",
              "      <td>0</td>\n",
              "      <td>0</td>\n",
              "      <td>0</td>\n",
              "      <td>0</td>\n",
              "      <td>0</td>\n",
              "      <td>1</td>\n",
              "      <td>0</td>\n",
              "      <td>0</td>\n",
              "      <td>0</td>\n",
              "    </tr>\n",
              "    <tr>\n",
              "      <th>1</th>\n",
              "      <td>0</td>\n",
              "      <td>0</td>\n",
              "      <td>0</td>\n",
              "      <td>0</td>\n",
              "      <td>2</td>\n",
              "      <td>0.3635</td>\n",
              "      <td>0.3537</td>\n",
              "      <td>0.6961</td>\n",
              "      <td>0.2485</td>\n",
              "      <td>1</td>\n",
              "      <td>0</td>\n",
              "      <td>0</td>\n",
              "      <td>0</td>\n",
              "      <td>0</td>\n",
              "      <td>0</td>\n",
              "      <td>0</td>\n",
              "      <td>0</td>\n",
              "      <td>0</td>\n",
              "      <td>0</td>\n",
              "      <td>0</td>\n",
              "      <td>0</td>\n",
              "      <td>1</td>\n",
              "      <td>0</td>\n",
              "      <td>0</td>\n",
              "      <td>0</td>\n",
              "    </tr>\n",
              "    <tr>\n",
              "      <th>2</th>\n",
              "      <td>0</td>\n",
              "      <td>0</td>\n",
              "      <td>1</td>\n",
              "      <td>1</td>\n",
              "      <td>1</td>\n",
              "      <td>0.1964</td>\n",
              "      <td>0.1894</td>\n",
              "      <td>0.4373</td>\n",
              "      <td>0.2483</td>\n",
              "      <td>1</td>\n",
              "      <td>0</td>\n",
              "      <td>0</td>\n",
              "      <td>0</td>\n",
              "      <td>0</td>\n",
              "      <td>0</td>\n",
              "      <td>0</td>\n",
              "      <td>0</td>\n",
              "      <td>0</td>\n",
              "      <td>0</td>\n",
              "      <td>0</td>\n",
              "      <td>0</td>\n",
              "      <td>1</td>\n",
              "      <td>0</td>\n",
              "      <td>0</td>\n",
              "      <td>0</td>\n",
              "    </tr>\n",
              "    <tr>\n",
              "      <th>3</th>\n",
              "      <td>0</td>\n",
              "      <td>0</td>\n",
              "      <td>2</td>\n",
              "      <td>1</td>\n",
              "      <td>1</td>\n",
              "      <td>0.2000</td>\n",
              "      <td>0.2121</td>\n",
              "      <td>0.5904</td>\n",
              "      <td>0.1603</td>\n",
              "      <td>1</td>\n",
              "      <td>0</td>\n",
              "      <td>0</td>\n",
              "      <td>0</td>\n",
              "      <td>0</td>\n",
              "      <td>0</td>\n",
              "      <td>0</td>\n",
              "      <td>0</td>\n",
              "      <td>0</td>\n",
              "      <td>0</td>\n",
              "      <td>0</td>\n",
              "      <td>0</td>\n",
              "      <td>1</td>\n",
              "      <td>0</td>\n",
              "      <td>0</td>\n",
              "      <td>0</td>\n",
              "    </tr>\n",
              "    <tr>\n",
              "      <th>4</th>\n",
              "      <td>0</td>\n",
              "      <td>0</td>\n",
              "      <td>3</td>\n",
              "      <td>1</td>\n",
              "      <td>1</td>\n",
              "      <td>0.2270</td>\n",
              "      <td>0.2293</td>\n",
              "      <td>0.4370</td>\n",
              "      <td>0.1869</td>\n",
              "      <td>1</td>\n",
              "      <td>0</td>\n",
              "      <td>0</td>\n",
              "      <td>0</td>\n",
              "      <td>0</td>\n",
              "      <td>0</td>\n",
              "      <td>0</td>\n",
              "      <td>0</td>\n",
              "      <td>0</td>\n",
              "      <td>0</td>\n",
              "      <td>0</td>\n",
              "      <td>0</td>\n",
              "      <td>1</td>\n",
              "      <td>0</td>\n",
              "      <td>0</td>\n",
              "      <td>0</td>\n",
              "    </tr>\n",
              "  </tbody>\n",
              "</table>\n",
              "</div>"
            ],
            "text/plain": [
              "   年  祝日  曜日  勤務日  天気     気温   体感温度     湿度     風速  月_1  月_2  月_3  月_4  月_5  \\\n",
              "0  0   0   6    0   2 0.3442 0.3636 0.8058 0.1604    1    0    0    0    0   \n",
              "1  0   0   0    0   2 0.3635 0.3537 0.6961 0.2485    1    0    0    0    0   \n",
              "2  0   0   1    1   1 0.1964 0.1894 0.4373 0.2483    1    0    0    0    0   \n",
              "3  0   0   2    1   1 0.2000 0.2121 0.5904 0.1603    1    0    0    0    0   \n",
              "4  0   0   3    1   1 0.2270 0.2293 0.4370 0.1869    1    0    0    0    0   \n",
              "\n",
              "   月_6  月_7  月_8  月_9  月_10  月_11  月_12  季節_1  季節_2  季節_3  季節_4  \n",
              "0    0    0    0    0     0     0     0     1     0     0     0  \n",
              "1    0    0    0    0     0     0     0     1     0     0     0  \n",
              "2    0    0    0    0     0     0     0     1     0     0     0  \n",
              "3    0    0    0    0     0     0     0     1     0     0     0  \n",
              "4    0    0    0    0     0     0     0     1     0     0     0  "
            ]
          },
          "metadata": {
            "tags": []
          }
        }
      ]
    },
    {
      "cell_type": "code",
      "metadata": {
        "id": "SbqhuABgTZ1G",
        "outputId": "249c31c4-5f0e-4ece-a2d9-36659bdf418b",
        "colab": {
          "base_uri": "https://localhost:8080/"
        }
      },
      "source": [
        "# 登録利用者モデル(チューニング後)\n",
        "\n",
        "# mdayを基準に入力データを分割\n",
        "x2_train = x2[train_index]\n",
        "x2_test = x2[test_index]\n",
        "\n",
        "#　アルゴリズム選定\n",
        "algorithm2 = XGBRegressor(objective ='reg:squarederror',\n",
        "    random_state=random_seed)\n",
        "\n",
        "# 学習\n",
        "algorithm2.fit(x2_train, y_train)\n",
        "\n",
        "# 予測\n",
        "y_pred2 = algorithm2.predict(x2_test)\n",
        "\n",
        "# 予測結果確認\n",
        "print(y_pred2[:5])"
      ],
      "execution_count": 21,
      "outputs": [
        {
          "output_type": "stream",
          "text": [
            "[4509.6143 4841.9644 3852.8997 3567.8196 4280.041 ]\n"
          ],
          "name": "stdout"
        }
      ]
    },
    {
      "cell_type": "code",
      "metadata": {
        "id": "QQ-tEX9nTcNu",
        "outputId": "ad7f2873-7982-4dd6-dc22-c710ae8f1cf6",
        "colab": {
          "base_uri": "https://localhost:8080/"
        }
      },
      "source": [
        "# 評価(登録利用者) (チューニング後)\n",
        "\n",
        "# score関数の呼び出し\n",
        "score2 = algorithm2.score(x2_test, y_test)\n",
        "\n",
        "# 結果確認\n",
        "print(f'score: {score2:.4f}')"
      ],
      "execution_count": 22,
      "outputs": [
        {
          "output_type": "stream",
          "text": [
            "score: 0.6182\n"
          ],
          "name": "stdout"
        }
      ]
    },
    {
      "cell_type": "code",
      "metadata": {
        "id": "g9fzinG3Teou",
        "outputId": "2ae005bf-049d-4399-cff3-855bb33b775c",
        "colab": {
          "base_uri": "https://localhost:8080/",
          "height": 398
        }
      },
      "source": [
        "#正解データと予測結果を散布図で比較 (登録利用者)\n",
        "plt.figure(figsize=(6,6))\n",
        "y_max = y_test.max()\n",
        "plt.plot((0,y_max), (0, y_max), c='k')\n",
        "plt.scatter(y_test, y_pred2, c='b')\n",
        "plt.title(f'正解データと予測結果の散布図(登録ユーザー利用数) R2={score2:.4f}')\n",
        "plt.grid()\n",
        "plt.show()"
      ],
      "execution_count": 23,
      "outputs": [
        {
          "output_type": "display_data",
          "data": {
            "image/png": "[encoded data removed]",
            "text/plain": [
              "<Figure size 432x432 with 1 Axes>"
            ]
          },
          "metadata": {
            "tags": [],
            "needs_background": "light"
          }
        }
      ]
    },
    {
      "cell_type": "code",
      "metadata": {
        "id": "J5UwQvZRTiDu",
        "outputId": "06bd6ea0-d403-43d5-b1a9-f22679d78c0f",
        "colab": {
          "base_uri": "https://localhost:8080/",
          "height": 355
        }
      },
      "source": [
        "# 時系列グラフの描画 (チューニング後 登録ユーザー利用数)\n",
        "import matplotlib.dates as mdates\n",
        "fig, ax = plt.subplots(figsize=(8, 4))\n",
        "\n",
        "# グラフ描画\n",
        "ax.plot(dates_test, y_test, label='正解データ', c='k')\n",
        "ax.plot(dates_test, y_pred, label='予測結果1', c='c')\n",
        "ax.plot(dates_test, y_pred2, label='予測結果2', c='b')\n",
        "\n",
        "# 日付目盛間隔\n",
        "weeks = mdates.WeekdayLocator(byweekday=mdates.TH)\n",
        "ax.xaxis.set_major_locator(weeks)\n",
        "\n",
        "# 日付書式\n",
        "ax.tick_params(axis='x', rotation=90)\n",
        "\n",
        "# 方眼表示など\n",
        "ax.grid()\n",
        "ax.legend()\n",
        "ax.set_title('登録ユーザー利用数予測')\n",
        "\n",
        "# 画面出力\n",
        "plt.show()"
      ],
      "execution_count": 24,
      "outputs": [
        {
          "output_type": "display_data",
          "data": {
            "image/png": "[encoded data removed]",
            "text/plain": [
              "<Figure size 576x288 with 1 Axes>"
            ]
          },
          "metadata": {
            "tags": [],
            "needs_background": "light"
          }
        }
      ]
    },
    {
      "cell_type": "code",
      "metadata": {
        "id": "ZIdyipaoTtWG",
        "outputId": "48d657a4-2fa4-4e7e-8fbf-b5c253a913d3",
        "colab": {
          "base_uri": "https://localhost:8080/",
          "height": 306
        }
      },
      "source": [
        "\n",
        "# 登録ユーザー利用数に対する重要度分析\n",
        "import xgboost as xgb\n",
        "fig, ax = plt.subplots(figsize=(8, 4))\n",
        "xgb.plot_importance(algorithm, ax=ax, height=0.8,\n",
        "    importance_type='gain', show_values=False,\n",
        "    title='重要度分析(登録ユーザー利用数)')\n",
        "plt.show()"
      ],
      "execution_count": 25,
      "outputs": [
        {
          "output_type": "display_data",
          "data": {
            "image/png": "[encoded data removed]",
            "text/plain": [
              "<Figure size 576x288 with 1 Axes>"
            ]
          },
          "metadata": {
            "tags": [],
            "needs_background": "light"
          }
        }
      ]
    },
    {
      "cell_type": "markdown",
      "metadata": {
        "id": "GJBs_flRovLc"
      },
      "source": [
        "## <strong>はじめに</strong>\n",
        "\n",
        "ご覧になっているこのドキュメントは静的なウェブページではなく、<strong>Colab ノートブック</strong>という、コードを記述して実行できるインタラクティブな環境です。\n",
        "\n",
        "たとえば次の<strong>コードセル</strong>には、値を計算して変数に保存し、結果を出力する短い Python スクリプトが記述されています。"
      ]
    },
    {
      "cell_type": "code",
      "metadata": {
        "id": "v57rCIi4R9vW"
      },
      "source": [
        ""
      ],
      "execution_count": null,
      "outputs": []
    },
    {
      "cell_type": "markdown",
      "metadata": {
        "id": "gHjjDwMOLFuf"
      },
      "source": [
        ""
      ]
    },
    {
      "cell_type": "code",
      "metadata": {
        "colab": {
          "base_uri": "https://localhost:8080/",
          "height": 34
        },
        "id": "gJr_9dXGpJ05",
        "outputId": "9f556d03-ec67-4950-a485-cfdba9ddd14d"
      },
      "source": [
        "seconds_in_a_day = 24 * 60 * 60\n",
        "seconds_in_a_day"
      ],
      "execution_count": null,
      "outputs": [
        {
          "output_type": "execute_result",
          "data": {
            "text/plain": [
              "86400"
            ]
          },
          "metadata": {
            "tags": []
          },
          "execution_count": 0
        }
      ]
    },
    {
      "cell_type": "markdown",
      "metadata": {
        "id": "2fhs6GZ4qFMx"
      },
      "source": [
        "上記のセルのコードを実行するには、セルをクリックして選択し、コードの左側にある実行ボタンをクリックするか、キーボード ショートカット「command+return」または「Ctrl+Enter」を使用します。コードはセルをクリックしてそのまま編集できます。\n",
        "\n",
        "1 つのセルで定義した変数は、後で他のセルで使用できます。"
      ]
    },
    {
      "cell_type": "code",
      "metadata": {
        "colab": {
          "base_uri": "https://localhost:8080/",
          "height": 34
        },
        "id": "-gE-Ez1qtyIA",
        "outputId": "94cb2224-0edf-457b-90b5-0ac3488d8a97"
      },
      "source": [
        "seconds_in_a_week = 7 * seconds_in_a_day\n",
        "seconds_in_a_week"
      ],
      "execution_count": null,
      "outputs": [
        {
          "output_type": "execute_result",
          "data": {
            "text/plain": [
              "604800"
            ]
          },
          "metadata": {
            "tags": []
          },
          "execution_count": 0
        }
      ]
    },
    {
      "cell_type": "markdown",
      "metadata": {
        "id": "lSrWNr3MuFUS"
      },
      "source": [
        "Colab ノートブックを使用すると、<strong>実行可能コード</strong>と<strong>リッチテキスト</strong>（<strong>画像</strong>、<strong>HTML</strong>、<strong>LaTeX</strong> なども可）を 1 つのドキュメントで記述できます。ご自分の Colab ノートブックを作成すると、Google ドライブ アカウントに保存されます。Colab ノートブックは、同僚や友人と簡単に共有し、コメントの記入や編集をしてもらうことができます。詳細については <a href=\"/notebooks/basic_features_overview.ipynb\">Colab の概要</a>をご覧ください。新しい Colab ノートブックを作成するには、上にある &#91;ファイル&#93; メニューを使用するか、<a href=\"http://colab.research.google.com#create=true\">こちら</a>をクリックします。\n",
        "\n",
        "Colab ノートブックは、Colab がホストする Jupyter ノートブックです。Jupyter プロジェクトの詳細については、<a href=\"https://www.jupyter.org\">jupyter.org</a> をご覧ください。"
      ]
    },
    {
      "cell_type": "markdown",
      "metadata": {
        "id": "UdRyKR44dcNI"
      },
      "source": [
        "## データ サイエンス\n",
        "\n",
        "Colab では、よく使用されている Python ライブラリの機能をフルに活用して、データの分析と可視化を行えます。以下のコードセルでは、<strong>numpy</strong> を使用してランダムデータを生成し、<strong>matplotlib</strong> を使用して可視化しています。コードはセルをクリックしてそのまま編集できます。"
      ]
    },
    {
      "cell_type": "code",
      "metadata": {
        "colab": {
          "base_uri": "https://localhost:8080/",
          "height": 281
        },
        "id": "C4HZx7Gndbrh",
        "outputId": "46abc637-6abd-41b2-9bba-80a7ae992e06"
      },
      "source": [
        "import numpy as np\n",
        "from matplotlib import pyplot as plt\n",
        "\n",
        "ys = 200 + np.random.randn(100)\n",
        "x = [x for x in range(len(ys))]\n",
        "\n",
        "plt.plot(x, ys, '-')\n",
        "plt.fill_between(x, ys, 195, where=(ys > 195), facecolor='g', alpha=0.6)\n",
        "\n",
        "plt.title(\"Sample Visualization\")\n",
        "plt.show()"
      ],
      "execution_count": null,
      "outputs": [
        {
          "output_type": "display_data",
          "data": {
            "image/png": "[encoded data removed]",
            "text/plain": [
              "<Figure size 432x288 with 1 Axes>"
            ]
          },
          "metadata": {
            "tags": []
          }
        }
      ]
    },
    {
      "cell_type": "markdown",
      "metadata": {
        "id": "4_kCnsPUqS6o"
      },
      "source": [
        "Colab ノートブックには、Google ドライブ アカウント（スプレッドシートを含む）からご自分のデータをインポートできます。また、GitHub やその他多くのソースからのインポートも可能です。データのインポートについて、またデータ サイエンスで Colab を使用する方法の詳細については、<a href=\"#working-with-data\">データの操作</a>の下にあるリンクをクリックしてください。"
      ]
    },
    {
      "cell_type": "markdown",
      "metadata": {
        "id": "OwuxHmxllTwN"
      },
      "source": [
        "## 機械学習\n",
        "\n",
        "Colab を使用すると、画像データセットのインポート、画像分類のトレーニング、モデルの評価をすべて<a href=\"https://colab.research.google.com/github/tensorflow/docs/blob/master/site/en/tutorials/quickstart/beginner.ipynb\">数行のコード</a>で実行できます。Colab ノートブックは Google のクラウド サーバーでコードを実行します。そのため、パソコンの性能にかかわらず、<a href=\"#using-accelerated-hardware\">GPU や TPU</a> など Google ハードウェアの優れた機能を活用できます。必要なのはブラウザだけです。"
      ]
    },
    {
      "cell_type": "markdown",
      "metadata": {
        "id": "ufxBm1yRnruN"
      },
      "source": [
        "Colab は、次に示す用途を含め、機械学習コミュニティで広く使用されています。\n",
        "- TensorFlow の導入\n",
        "- ニューラル ネットワークの開発とトレーニング\n",
        "- TPU を利用した実験\n",
        "- AI リサーチの促進\n",
        "- チュートリアルの作成\n",
        "\n",
        "Colab ノートブックを機械学習に応用したサンプルについては、以下の<a href=\"#machine-learning-examples\">機械学習の例</a>をご覧ください。"
      ]
    },
    {
      "cell_type": "markdown",
      "metadata": {
        "id": "-Rh3-Vt9Nev9"
      },
      "source": [
        "## その他のリソース\n",
        "\n",
        "### Colab でのノートブックの操作\n",
        "- [Colaboratory の概要](/notebooks/basic_features_overview.ipynb)\n",
        "- [markdown のガイド](/notebooks/markdown_guide.ipynb)\n",
        "- [ライブラリのインポートと依存関係のインストール](/notebooks/snippets/importing_libraries.ipynb)\n",
        "- [GitHub でのノートブックの保存と読み込み](https://colab.research.google.com/github/googlecolab/colabtools/blob/master/notebooks/colab-github-demo.ipynb)\n",
        "- [インタラクティブなフォーム](/notebooks/forms.ipynb)\n",
        "- [インタラクティブなウィジェット](/notebooks/widgets.ipynb)\n",
        "- <img src=\"/img/new.png\" height=\"20px\" align=\"left\" hspace=\"4px\" alt=\"New\"></img>\n",
        " [Colab の TensorFlow 2](/notebooks/tensorflow_version.ipynb)\n",
        "\n",
        "<a name=\"working-with-data\"></a>\n",
        "### データの操作\n",
        "- [データの読み込み: ドライブ、スプレッドシート、Google Cloud Storage](/notebooks/io.ipynb) \n",
        "- [グラフ: データの視覚化](/notebooks/charts.ipynb)\n",
        "- [BigQuery を使ってみる](/notebooks/bigquery.ipynb)\n",
        "\n",
        "### 機械学習の集中講座\n",
        "Google の機械学習に関するオンライン コースからいくつかのノートブックをご紹介します。詳しくは、<a href=\"https://developers.google.com/machine-learning/crash-course/\">全コースのウェブサイト</a>をご覧ください。\n",
        "- [pandas の概要](/notebooks/mlcc/intro_to_pandas.ipynb)\n",
        "- [Tensorflow のコンセプト](/notebooks/mlcc/tensorflow_programming_concepts.ipynb)\n",
        "- [TensorFlow での最初の手順](/notebooks/mlcc/first_steps_with_tensor_flow.ipynb)\n",
        "- [ニューラル ネットの概要](/notebooks/mlcc/intro_to_neural_nets.ipynb)\n",
        "- [スパースデータと埋め込みの概要](/notebooks/mlcc/intro_to_sparse_data_and_embeddings.ipynb)\n",
        "\n",
        "<a name=\"using-accelerated-hardware\"></a>\n",
        "### アクセラレータの使用\n",
        "- [TensorFlow と GPU](/notebooks/gpu.ipynb)\n",
        "- [TensorFlow と TPU](/notebooks/tpu.ipynb)"
      ]
    },
    {
      "cell_type": "markdown",
      "metadata": {
        "id": "5fCEDCU_qrC0"
      },
      "source": [
        "<p><img alt=\"Colaboratory logo\" height=\"45px\" src=\"/img/colab_favicon.ico\" align=\"left\" hspace=\"10px\" vspace=\"0px\"></p>\n",
        "\n",
        "<h1>Colaboratory とは</h1>\n",
        "\n",
        "Colaboratory（略称: Colab）は、ブラウザから Python を記述、実行できるサービスです。次の特長を備えています。\n",
        "- 環境構築が不要\n",
        "- GPU への無料アクセス\n",
        "- 簡単に共有\n",
        "\n",
        "Colab は、<strong>学生</strong>から<strong>データ サイエンティスト</strong>、<strong>AI リサーチャー</strong>まで、皆さんの作業を効率化します。詳しくは、<a href=\"https://www.youtube.com/watch?v=inN8seMm7UI\">Colab の紹介動画</a>をご覧ください。下のリンクからすぐに使ってみることもできます。"
      ]
    }
  ]
}